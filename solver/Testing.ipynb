{
 "cells": [
  {
   "cell_type": "code",
   "execution_count": 1,
   "metadata": {},
   "outputs": [],
   "source": [
    "from solver import *"
   ]
  },
  {
   "cell_type": "markdown",
   "metadata": {},
   "source": [
    "## Tests"
   ]
  },
  {
   "cell_type": "code",
   "execution_count": 2,
   "metadata": {},
   "outputs": [],
   "source": [
    "x, y, z, w = sp.symbols('x y z w')\n",
    "a, b, c, d, e, f, g, h = sp.symbols('a b c d e f g h')\n",
    "_0, _1 = sp.sympify(0), sp.sympify(1)\n",
    "\n",
    "# A test is a tuple (equations, variables, expected class)\n",
    "tests = [\n",
    "    ([    ], [    ], set(), 1),\n",
    "    ([ _1 ], [    ], set(), 0),\n",
    "    ([ _0 ], [    ], set(), 1),\n",
    "    ([    ], [ _0 ], set(), 0),\n",
    "    ([ _1 ], [ _0 ], set(), 0),\n",
    "    ([ _0 ], [ _0 ], set(), 0),\n",
    "    ([    ], [ _1 ], set(), 1),\n",
    "    ([ _1 ], [ _1 ], set(), 0),\n",
    "    ([ _0 ], [ _1 ], set(), 1),\n",
    "\n",
    "    ([], [], { x }, q),\n",
    "    ([ x ], [], { x }, 1),\n",
    "    ([ x - 3 ], [], { x }, 1),\n",
    "    ([ x, y ], [], { x, y }, 1),\n",
    "    ([ x * y ], [], { x, y }, 2*q - 1),\n",
    "    ([ x * y + 1 ], [], { x, y }, q - 1),\n",
    "    ([ (x + 1) * (y + 1) ], [], { x, y }, 2 * q - 1),\n",
    "    ([ x**2 + 1 ], [], { x }, 2),\n",
    "    ([ x**3 + x + 1 ], [], { x }, 3),\n",
    "    ([ x**3 + 4*x**2 + 5*x + 2 ], [], { x }, 2),    \n",
    "    ([ (x**2 + 1) * (y**2 + 1) ], [], { x, y }, 4*q - 4),\n",
    "    ([ x * y - z * w - 1 ], [], { x, y, z, w }, q**3 - q),\n",
    "    ([ a*b + c*e, c*h - d*h + f*g ], [], { a, b, c, d, e, f, g, h }, q**6 + 2*q**5 - q**4 - 2*q**3 + q**2)\n",
    "]"
   ]
  },
  {
   "cell_type": "code",
   "execution_count": 3,
   "metadata": {},
   "outputs": [
    {
     "name": "stdout",
     "output_type": "stream",
     "text": [
      "Test succeeded!\n",
      "Test succeeded!\n",
      "Test succeeded!\n",
      "Test succeeded!\n",
      "Test succeeded!\n",
      "Test succeeded!\n",
      "Test succeeded!\n",
      "Test succeeded!\n",
      "Test succeeded!\n",
      "Test succeeded!\n",
      "Test succeeded!\n",
      "Test succeeded!\n",
      "Test succeeded!\n",
      "Test succeeded!\n",
      "Test succeeded!\n",
      "Test succeeded!\n",
      "Test succeeded!\n",
      "Test succeeded!\n",
      "Test succeeded!\n",
      "Test succeeded!\n",
      "Test succeeded!\n",
      "Test succeeded!\n",
      "\n",
      "All tests succeeded! Time elapsed: 2.3398256301879883\n"
     ]
    }
   ],
   "source": [
    "# Run tests\n",
    "success = True\n",
    "total_time = 0\n",
    "for eqs, op_eqs, X_vars, exp_c in tests:\n",
    "    # Solve system\n",
    "    system = System(eqs, op_eqs, X_vars)\n",
    "    t, c = time_solve(system)\n",
    "    total_time += t\n",
    "    \n",
    "    # Check if agrees with expected value\n",
    "    if sp.expand(c - exp_c) != 0:\n",
    "        print('Test failed! System {}: expected {} but got {}'.format(system, exp_c, c))\n",
    "        success = False\n",
    "    else:\n",
    "        print('Test succeeded!')\n",
    "\n",
    "if success:\n",
    "    print('\\nAll tests succeeded! Time elapsed: {}'.format(total_time))\n",
    "else:\n",
    "    print('\\nSome tests failed!')"
   ]
  },
  {
   "cell_type": "markdown",
   "metadata": {},
   "source": [
    "## Benchmarking"
   ]
  },
  {
   "cell_type": "code",
   "execution_count": 4,
   "metadata": {
    "scrolled": true
   },
   "outputs": [
    {
     "name": "stdout",
     "output_type": "stream",
     "text": [
      "\n",
      "Time elapsed per solve: 0.09381335735321045\n"
     ]
    }
   ],
   "source": [
    "a, b, c, d, e, f, g, h = sp.symbols('a b c d e f g h')\n",
    "system = System([ a*d + b*c - 1, e*f + g*h - 1 ], [], { a, b, c, d, e, f, g, h })\n",
    "\n",
    "benchmark(system, 50)"
   ]
  },
  {
   "cell_type": "code",
   "execution_count": 5,
   "metadata": {},
   "outputs": [
    {
     "name": "stdout",
     "output_type": "stream",
     "text": [
      "\n",
      "Time elapsed per solve: 0.29073561668396\n"
     ]
    }
   ],
   "source": [
    "a, b, c, d, e, f, g, h = sp.symbols('a b c d e f g h')\n",
    "system = System([ (a + b) * (c + d) * (e + f) * (g + h) ], [], { a, b, c, d, e, f, g, h })\n",
    "\n",
    "benchmark(system, 50)"
   ]
  },
  {
   "cell_type": "code",
   "execution_count": 6,
   "metadata": {},
   "outputs": [
    {
     "name": "stdout",
     "output_type": "stream",
     "text": [
      "\n",
      "Time elapsed per solve: 0.03672786235809326\n"
     ]
    }
   ],
   "source": [
    "a, b, c, d, e, f, g, h = sp.symbols('a b c d e f g h')\n",
    "system = System([ a * b + c * d ], [], { a, b, c, d })\n",
    "\n",
    "\n",
    "benchmark(system, 50)"
   ]
  },
  {
   "cell_type": "code",
   "execution_count": null,
   "metadata": {},
   "outputs": [],
   "source": []
  }
 ],
 "metadata": {
  "kernelspec": {
   "display_name": "Python 3",
   "language": "python",
   "name": "python3"
  },
  "language_info": {
   "codemirror_mode": {
    "name": "ipython",
    "version": 3
   },
   "file_extension": ".py",
   "mimetype": "text/x-python",
   "name": "python",
   "nbconvert_exporter": "python",
   "pygments_lexer": "ipython3",
   "version": "3.8.3"
  }
 },
 "nbformat": 4,
 "nbformat_minor": 4
}

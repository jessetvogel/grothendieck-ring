{
 "cells": [
  {
   "cell_type": "code",
   "execution_count": 1,
   "metadata": {},
   "outputs": [],
   "source": [
    "import sympy as sp"
   ]
  },
  {
   "cell_type": "code",
   "execution_count": 2,
   "metadata": {},
   "outputs": [],
   "source": [
    "x, y = sp.symbols('x y')\n",
    "f = sp.Poly(x + y, gens = [ x, y ])\n",
    "g = sp.Poly(x - y, gens = [ x, y ])"
   ]
  },
  {
   "cell_type": "code",
   "execution_count": 3,
   "metadata": {},
   "outputs": [
    {
     "output_type": "execute_result",
     "data": {
      "text/plain": "(Poly(x + y, x, y, domain='ZZ'), Poly(x - y, x, y, domain='ZZ'))"
     },
     "metadata": {},
     "execution_count": 3
    }
   ],
   "source": [
    "f, g"
   ]
  },
  {
   "cell_type": "code",
   "execution_count": 4,
   "metadata": {},
   "outputs": [],
   "source": [
    "def are_isomorphic(F, G):\n",
    "    # Number of equations should match\n",
    "    if len(F) != len(G):\n",
    "        return False\n",
    "    n_eqs = len(F)\n",
    "\n",
    "    # Trivial case\n",
    "    if n_eqs == 0:\n",
    "        return True\n",
    "\n",
    "    # Number of variables should match\n",
    "    if len(F[0].gens) != len(G[0].gens):\n",
    "        return False\n",
    "    n_vars = len(F[0].gens)\n",
    "\n",
    "    # Convert polynomials to their term representation\n",
    "    F = [ f.terms() for f in F ]\n",
    "    G = [ g.terms() for g in G ]\n",
    "\n",
    "    # Now try to match equations\n",
    "    match_eqs, match_vars = [ None ] * n_eqs, [ None ] * n_vars\n",
    "    \n",
    "    def match_eq(match_eqs, match_vars, i):\n",
    "        # If this was the last equation that needed to be matched, we are done!\n",
    "        if i == n_eqs:\n",
    "            print(match_eqs)\n",
    "            print(match_vars)\n",
    "            return True\n",
    "\n",
    "        f_terms = F[i]\n",
    "        n_terms = len(f_terms)\n",
    "        for j in [ j for j in range(n_eqs) if j not in match_eqs and len(G[j]) == n_terms ]:\n",
    "            # Try to match equation F[i] to G[j]\n",
    "            g_terms = G[j]\n",
    "\n",
    "            # Now try to match terms\n",
    "            match_eqs[i] = j\n",
    "            match_terms = [ None ] * n_terms\n",
    "            result = match_term(match_eqs, match_vars, i, j, match_terms, n_terms, 0)\n",
    "            if result == True:\n",
    "                return True\n",
    "            match_eqs[i] = None\n",
    "\n",
    "        return False\n",
    "\n",
    "    def match_term(match_eqs, match_vars, i, j, match_terms, n_terms, k):\n",
    "        # If all terms are matched, go on to the next equation\n",
    "        if k == n_terms:\n",
    "            return match_eq(match_eqs, match_vars, i + 1)\n",
    "\n",
    "        # Find match for F[i][k]\n",
    "        f_term = F[i][k]\n",
    "        for l in [ l for l in range(n_terms) if l not in match_terms and could_match_term(f_term, G[j][l])]:\n",
    "            g_term = G[j][l]\n",
    "            options = []\n",
    "            if not find_options_match_term(f_term[0], g_term[0], options, match_vars, 0):\n",
    "                return False\n",
    "\n",
    "            match_terms[k] = l\n",
    "            for option in options:\n",
    "                result = match_term(match_eqs, option, i, j, match_terms, n_terms, k + 1)\n",
    "                if result == True:\n",
    "                    return True\n",
    "            match_terms[k] = None\n",
    "        \n",
    "        return False\n",
    "\n",
    "    def find_options_match_term(T, S, options, option, u):\n",
    "        # If all u's are matched, add to options\n",
    "        if u == n_vars:\n",
    "            options.append(option.copy())\n",
    "            return True\n",
    "\n",
    "        # If u was already matched, or if T[u] == 0, just continue\n",
    "        if option[u] != None or T[u] == 0:\n",
    "            return find_options_match_term(T, S, options, option, u + 1)\n",
    "        \n",
    "        # Otherwise, find new matches for v\n",
    "        matches_v = [ v for v in range(n_vars) if S[v] == T[u] and v not in option ]\n",
    "        if not matches_v:\n",
    "            return False\n",
    "\n",
    "        for v in matches_v:\n",
    "            option[u] = v\n",
    "            if not find_options_match_term(T, S, options, option, u + 1):\n",
    "                option[u] = None        \n",
    "                return False\n",
    "        \n",
    "        option[u] = None\n",
    "        return True\n",
    "\n",
    "    def could_match_term(T, S):\n",
    "        # Coefficients should match\n",
    "        if T[1] != S[1]:\n",
    "            return False\n",
    "        \n",
    "        # Powers should match\n",
    "        k = max(T[0] + S[0]) + 1\n",
    "        P = [ 0 ] * k\n",
    "        for a in T[0]:\n",
    "            P[a] += 1\n",
    "        for a in S[0]:\n",
    "            P[a] -= 1\n",
    "        \n",
    "        return not any(P)\n",
    "\n",
    "    return match_eq(match_eqs, match_vars, 0)"
   ]
  },
  {
   "cell_type": "code",
   "execution_count": 47,
   "metadata": {},
   "outputs": [],
   "source": [
    "f = sp.Poly(x + y)\n",
    "g = sp.Poly(x - y)"
   ]
  },
  {
   "cell_type": "code",
   "execution_count": 5,
   "metadata": {},
   "outputs": [
    {
     "output_type": "error",
     "ename": "NameError",
     "evalue": "name 'find_options_match_term' is not defined",
     "traceback": [
      "\u001b[0;31m---------------------------------------------------------------------------\u001b[0m",
      "\u001b[0;31mNameError\u001b[0m                                 Traceback (most recent call last)",
      "\u001b[0;32m<ipython-input-5-601332549bee>\u001b[0m in \u001b[0;36m<module>\u001b[0;34m\u001b[0m\n\u001b[1;32m      2\u001b[0m \u001b[0moptions\u001b[0m \u001b[0;34m=\u001b[0m \u001b[0;34m[\u001b[0m\u001b[0;34m]\u001b[0m\u001b[0;34m\u001b[0m\u001b[0;34m\u001b[0m\u001b[0m\n\u001b[1;32m      3\u001b[0m \u001b[0moption\u001b[0m \u001b[0;34m=\u001b[0m \u001b[0;34m[\u001b[0m \u001b[0;32mNone\u001b[0m\u001b[0;34m,\u001b[0m \u001b[0;32mNone\u001b[0m\u001b[0;34m,\u001b[0m \u001b[0;32mNone\u001b[0m \u001b[0;34m]\u001b[0m\u001b[0;34m\u001b[0m\u001b[0;34m\u001b[0m\u001b[0m\n\u001b[0;32m----> 4\u001b[0;31m \u001b[0mfind_options_match_term\u001b[0m\u001b[0;34m(\u001b[0m\u001b[0;34m(\u001b[0m\u001b[0;36m1\u001b[0m\u001b[0;34m,\u001b[0m \u001b[0;36m2\u001b[0m\u001b[0;34m,\u001b[0m \u001b[0;36m0\u001b[0m\u001b[0;34m)\u001b[0m\u001b[0;34m,\u001b[0m \u001b[0;34m(\u001b[0m\u001b[0;36m0\u001b[0m\u001b[0;34m,\u001b[0m \u001b[0;36m1\u001b[0m\u001b[0;34m,\u001b[0m \u001b[0;36m0\u001b[0m\u001b[0;34m)\u001b[0m\u001b[0;34m,\u001b[0m \u001b[0moptions\u001b[0m\u001b[0;34m,\u001b[0m \u001b[0moption\u001b[0m\u001b[0;34m,\u001b[0m \u001b[0;36m0\u001b[0m\u001b[0;34m)\u001b[0m\u001b[0;34m\u001b[0m\u001b[0;34m\u001b[0m\u001b[0m\n\u001b[0m",
      "\u001b[0;31mNameError\u001b[0m: name 'find_options_match_term' is not defined"
     ]
    }
   ],
   "source": [
    "n_vars = 3\n",
    "options = []\n",
    "option = [ None, None, None ]\n",
    "find_options_match_term((1, 2, 0), (0, 1, 0), options, option, 0)"
   ]
  },
  {
   "cell_type": "code",
   "execution_count": 133,
   "metadata": {},
   "outputs": [
    {
     "output_type": "execute_result",
     "data": {
      "text/plain": "[]"
     },
     "metadata": {},
     "execution_count": 133
    }
   ],
   "source": [
    "options"
   ]
  },
  {
   "cell_type": "code",
   "execution_count": 105,
   "metadata": {},
   "outputs": [
    {
     "output_type": "execute_result",
     "data": {
      "text/plain": "[None, None, None]"
     },
     "metadata": {},
     "execution_count": 105
    }
   ],
   "source": [
    "option"
   ]
  },
  {
   "cell_type": "code",
   "execution_count": null,
   "metadata": {},
   "outputs": [],
   "source": []
  },
  {
   "cell_type": "code",
   "execution_count": 116,
   "metadata": {},
   "outputs": [
    {
     "output_type": "execute_result",
     "data": {
      "text/plain": "3"
     },
     "metadata": {},
     "execution_count": 116
    }
   ],
   "source": [
    "max((1, 2, 3))"
   ]
  },
  {
   "cell_type": "code",
   "execution_count": 121,
   "metadata": {},
   "outputs": [
    {
     "output_type": "execute_result",
     "data": {
      "text/plain": "True"
     },
     "metadata": {},
     "execution_count": 121
    }
   ],
   "source": [
    "any( (0, -1, 0) )"
   ]
  },
  {
   "cell_type": "code",
   "execution_count": 128,
   "metadata": {},
   "outputs": [
    {
     "output_type": "execute_result",
     "data": {
      "text/plain": "False"
     },
     "metadata": {},
     "execution_count": 128
    }
   ],
   "source": [
    "could_match_term(f.terms()[0], g.terms()[1])"
   ]
  },
  {
   "cell_type": "code",
   "execution_count": 129,
   "metadata": {},
   "outputs": [
    {
     "output_type": "execute_result",
     "data": {
      "text/plain": "((0, 1), -1)"
     },
     "metadata": {},
     "execution_count": 129
    }
   ],
   "source": [
    "g.terms()[1]"
   ]
  },
  {
   "cell_type": "code",
   "execution_count": 127,
   "metadata": {},
   "outputs": [
    {
     "output_type": "execute_result",
     "data": {
      "text/plain": "((1, 0), 1)"
     },
     "metadata": {},
     "execution_count": 127
    }
   ],
   "source": [
    "f.terms()[0] "
   ]
  },
  {
   "cell_type": "code",
   "execution_count": 135,
   "metadata": {},
   "outputs": [
    {
     "output_type": "execute_result",
     "data": {
      "text/plain": "Poly(x + y, x, y, domain='ZZ')",
      "text/latex": "$\\displaystyle \\operatorname{Poly}{\\left( x + y, x, y, domain=\\mathbb{Z} \\right)}$"
     },
     "metadata": {},
     "execution_count": 135
    }
   ],
   "source": [
    "f"
   ]
  },
  {
   "cell_type": "code",
   "execution_count": 136,
   "metadata": {},
   "outputs": [
    {
     "output_type": "execute_result",
     "data": {
      "text/plain": "Poly(x - y, x, y, domain='ZZ')",
      "text/latex": "$\\displaystyle \\operatorname{Poly}{\\left( x - y, x, y, domain=\\mathbb{Z} \\right)}$"
     },
     "metadata": {},
     "execution_count": 136
    }
   ],
   "source": [
    "g"
   ]
  },
  {
   "cell_type": "code",
   "execution_count": 160,
   "metadata": {
    "tags": []
   },
   "outputs": [
    {
     "output_type": "execute_result",
     "data": {
      "text/plain": "False"
     },
     "metadata": {},
     "execution_count": 160
    }
   ],
   "source": []
  },
  {
   "cell_type": "code",
   "execution_count": 18,
   "metadata": {
    "tags": []
   },
   "outputs": [
    {
     "output_type": "stream",
     "name": "stdout",
     "text": "[0, 1]\n[1, 0, 2]\n"
    },
    {
     "output_type": "execute_result",
     "data": {
      "text/plain": "True"
     },
     "metadata": {},
     "execution_count": 18
    }
   ],
   "source": [
    "are_isomorphic([ sp.Poly(x**2*y + y*x + z), sp.Poly(y) ], [ sp.Poly(y**2*x + x*y + z), sp.Poly(x) ])"
   ]
  },
  {
   "cell_type": "code",
   "execution_count": 28,
   "metadata": {},
   "outputs": [
    {
     "output_type": "execute_result",
     "data": {
      "text/plain": "Poly(0, x, y, domain='ZZ')",
      "text/latex": "$\\displaystyle \\operatorname{Poly}{\\left( 0, x, y, domain=\\mathbb{Z} \\right)}$"
     },
     "metadata": {},
     "execution_count": 28
    }
   ],
   "source": [
    "sp.diff(sp.Poly(x, [x, y]), y)"
   ]
  },
  {
   "cell_type": "code",
   "execution_count": 33,
   "metadata": {},
   "outputs": [
    {
     "output_type": "execute_result",
     "data": {
      "text/plain": "False"
     },
     "metadata": {},
     "execution_count": 33
    }
   ],
   "source": [
    "sp.Poly(x + y, [x, y]).gcd(g) == 0"
   ]
  },
  {
   "cell_type": "code",
   "execution_count": 34,
   "metadata": {},
   "outputs": [
    {
     "output_type": "execute_result",
     "data": {
      "text/plain": "1",
      "text/latex": "$\\displaystyle 1$"
     },
     "metadata": {},
     "execution_count": 34
    }
   ],
   "source": [
    "(x + y).diff(x)"
   ]
  },
  {
   "cell_type": "code",
   "execution_count": 39,
   "metadata": {},
   "outputs": [],
   "source": [
    "q, r = f.div(g)"
   ]
  },
  {
   "cell_type": "code",
   "execution_count": 38,
   "metadata": {},
   "outputs": [
    {
     "output_type": "execute_result",
     "data": {
      "text/plain": "(Poly(3*x - y, x, y, domain='ZZ'), Poly(-x + 3*y, x, y, domain='ZZ'))"
     },
     "metadata": {},
     "execution_count": 38
    }
   ],
   "source": [
    "f, g"
   ]
  },
  {
   "cell_type": "code",
   "execution_count": 41,
   "metadata": {},
   "outputs": [
    {
     "output_type": "execute_result",
     "data": {
      "text/plain": "True"
     },
     "metadata": {},
     "execution_count": 41
    }
   ],
   "source": [
    "g * q + r == f"
   ]
  },
  {
   "cell_type": "code",
   "execution_count": 44,
   "metadata": {},
   "outputs": [
    {
     "output_type": "execute_result",
     "data": {
      "text/plain": "sympy.core.add.Add"
     },
     "metadata": {},
     "execution_count": 44
    }
   ],
   "source": []
  },
  {
   "cell_type": "code",
   "execution_count": 46,
   "metadata": {},
   "outputs": [],
   "source": [
    "q = sp.Symbol('q')"
   ]
  },
  {
   "cell_type": "code",
   "execution_count": 49,
   "metadata": {},
   "outputs": [
    {
     "output_type": "execute_result",
     "data": {
      "text/plain": "q**11 - 8*q**10 + 28*q**9 - 55*q**8 + 65*q**7 - 46*q**6 + 18*q**5 - 3*q**4",
      "text/latex": "$\\displaystyle q^{11} - 8 q^{10} + 28 q^{9} - 55 q^{8} + 65 q^{7} - 46 q^{6} + 18 q^{5} - 3 q^{4}$"
     },
     "metadata": {},
     "execution_count": 49
    }
   ],
   "source": [
    "sp.expand(q**4 * (q - 1)**5 * (q**2 - 3*q + 3))"
   ]
  },
  {
   "cell_type": "code",
   "execution_count": 54,
   "metadata": {},
   "outputs": [
    {
     "output_type": "execute_result",
     "data": {
      "text/plain": "2704",
      "text/latex": "$\\displaystyle 2704$"
     },
     "metadata": {},
     "execution_count": 54
    }
   ],
   "source": [
    "sp.factor(2704).factor()"
   ]
  },
  {
   "cell_type": "code",
   "execution_count": null,
   "metadata": {},
   "outputs": [],
   "source": []
  }
 ],
 "metadata": {
  "language_info": {
   "codemirror_mode": {
    "name": "ipython",
    "version": 3
   },
   "file_extension": ".py",
   "mimetype": "text/x-python",
   "name": "python",
   "nbconvert_exporter": "python",
   "pygments_lexer": "ipython3",
   "version": 3
  },
  "orig_nbformat": 2,
  "kernelspec": {
   "name": "python_defaultSpec_1594914683110",
   "display_name": "Python 3.8.3 64-bit"
  }
 },
 "nbformat": 4,
 "nbformat_minor": 2
}
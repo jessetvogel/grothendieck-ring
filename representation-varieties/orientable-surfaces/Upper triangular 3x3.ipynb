{
 "cells": [
  {
   "cell_type": "code",
   "execution_count": 1,
   "metadata": {},
   "outputs": [],
   "source": [
    "import numpy as np\n",
    "import sympy as sp\n",
    "\n",
    "from system import *"
   ]
  },
  {
   "cell_type": "markdown",
   "metadata": {},
   "source": [
    "### Initialize variables"
   ]
  },
  {
   "cell_type": "code",
   "execution_count": 2,
   "metadata": {},
   "outputs": [
    {
     "name": "stdout",
     "output_type": "stream",
     "text": [
      "True\n"
     ]
    }
   ],
   "source": [
    "# Compute the class of U3\n",
    "a, b, c, d, e, f = sp.symbols('a b c d e f')\n",
    "U3 = sp.factor(System({ a, b, c, d, e, f }, [], [ a, d, f ]).compute_class())\n",
    "\n",
    "# Check that it is q**3 * (q - 1)**3\n",
    "print(sp.expand(U3 - q**3 * (q - 1)**3) == 0)"
   ]
  },
  {
   "cell_type": "code",
   "execution_count": 3,
   "metadata": {},
   "outputs": [],
   "source": [
    "a1, b1, c1, d1, e1, f1 = sp.symbols('a1 b1 c1 d1 e1 f1')\n",
    "a2, b2, c2, d2, e2, f2 = sp.symbols('a2 b2 c2 d2 e2 f2')\n",
    "\n",
    "g1 = np.matrix([[ a1, b1, c1 ], [ 0, d1, e1 ], [ 0, 0, f1 ]])\n",
    "g2 = np.matrix([[ a2, b2, c2 ], [ 0, d2, e2 ], [ 0, 0, f2 ]])\n",
    "\n",
    "g1_inv = np.matrix([[ d1*f1, -b1*f1, b1*e1 - c1*d1 ], [ 0, a1*f1, -e1*a1 ], [ 0, 0, a1*d1 ]])\n",
    "g2_inv = np.matrix([[ d2*f2, -b2*f2, b2*e2 - c2*d2 ], [ 0, a2*f2, -e2*a2 ], [ 0, 0, a2*d2 ]])\n",
    "\n",
    "det_g1 = a1 * d1 * f1\n",
    "det_g2 = a2 * d2 * f2"
   ]
  },
  {
   "cell_type": "markdown",
   "metadata": {},
   "source": [
    "### Computing $Z_\\pi(L)(T_1)$"
   ]
  },
  {
   "cell_type": "code",
   "execution_count": 4,
   "metadata": {},
   "outputs": [
    {
     "data": {
      "text/latex": [
       "$\\displaystyle q^{3} \\left(q - 1\\right)^{4} \\left(q^{2} + q - 1\\right)$"
      ],
      "text/plain": [
       "q**3*(q - 1)**4*(q**2 + q - 1)"
      ]
     },
     "execution_count": 4,
     "metadata": {},
     "output_type": "execute_result"
    }
   ],
   "source": [
    "# Class of { [g1, g2] in C1 }\n",
    "C = g1 * g2 - g2 * g1\n",
    "eq1 = sp.expand(C[0, 1])\n",
    "eq2 = sp.expand(C[0, 2])\n",
    "eq3 = sp.expand(C[1, 2])\n",
    "\n",
    "case_1 = System({ a1, b1, c1, d1, e1, f1, a2, b2, c2, d2, e2, f2 }, [ b1    , b2    , eq1, eq2, eq3 ], [ det_g1, det_g2 ]).compute_class()\n",
    "case_2 = System({ a1, b1, c1, d1, e1, f1, a2, b2, c2, d2, e2, f2 }, [ b1    , b2 - 1, eq1, eq2, eq3 ], [ det_g1, det_g2 ]).compute_class()\n",
    "case_3 = System({ a1, b1, c1, d1, e1, f1, a2, b2, c2, d2, e2, f2 }, [ b1 - 1, b2 - 1, eq1, eq2, eq3 ], [ det_g1, det_g2 ]).compute_class()\n",
    "\n",
    "expr = case_1 + (q - 1) * case_2 + (q - 1) * case_2 + (q - 1)**2 * case_3\n",
    "sp.factor(expr)\n",
    "\n",
    "# Last output: \n",
    "#  q**3 * (q - 1)**4 * (q**2 + q - 1)"
   ]
  },
  {
   "cell_type": "code",
   "execution_count": 5,
   "metadata": {},
   "outputs": [
    {
     "data": {
      "text/latex": [
       "$\\displaystyle q^{6} \\left(q - 2\\right)^{2} \\left(q - 1\\right)^{4}$"
      ],
      "text/plain": [
       "q**6*(q - 2)**2*(q - 1)**4"
      ]
     },
     "execution_count": 5,
     "metadata": {},
     "output_type": "execute_result"
    }
   ],
   "source": [
    "# Class of { [g1, g2] in C2 }\n",
    "C = g1 * g2 * g1_inv * g2_inv\n",
    "eq1 = sp.factor(C[0, 1]) / a1 / a2 / f1 / f2\n",
    "eq2 = sp.factor(C[0, 2]) / a1 / a2\n",
    "eq3 = sp.factor(C[1, 2]) / a1 / a2 / d1 / d2\n",
    "\n",
    "case_1 = System({ a1, b1, c1, d1, e1, f1, a2, b2, c2, d2, e2, f2 }, [ b1    , b2     ], [ eq1, eq3, det_g1, det_g2 ]).compute_class()\n",
    "case_2 = System({ a1, b1, c1, d1, e1, f1, a2, b2, c2, d2, e2, f2 }, [ b1    , b2 - 1 ], [ eq1, eq3, det_g1, det_g2 ]).compute_class()\n",
    "case_3 = System({ a1, b1, c1, d1, e1, f1, a2, b2, c2, d2, e2, f2 }, [ b1 - 1, b2 - 1 ], [ eq1, eq3, det_g1, det_g2 ]).compute_class()\n",
    "\n",
    "expr = case_1 + (q - 1) * case_2 + (q - 1) * case_2 + (q - 1)**2 * case_3\n",
    "sp.factor(expr)\n",
    "\n",
    "# Last output: \n",
    "#  q**6 * (q - 2)**2 * (q - 1)**4"
   ]
  },
  {
   "cell_type": "code",
   "execution_count": 6,
   "metadata": {},
   "outputs": [
    {
     "data": {
      "text/latex": [
       "$\\displaystyle q^{6} \\left(q - 2\\right) \\left(q - 1\\right)^{4}$"
      ],
      "text/plain": [
       "q**6*(q - 2)*(q - 1)**4"
      ]
     },
     "execution_count": 6,
     "metadata": {},
     "output_type": "execute_result"
    }
   ],
   "source": [
    "# Class of { [g1, g2] in C3 }\n",
    "C = g1 * g2 * g1_inv * g2_inv\n",
    "eq1 = sp.factor(C[0, 1]) / a1 / a2 / f1 / f2\n",
    "eq2 = sp.factor(C[0, 2]) / a1 / a2\n",
    "eq3 = sp.factor(C[1, 2]) / a1 / a2 / d1 / d2\n",
    "\n",
    "case_1 = System({ a1, b1, c1, d1, e1, f1, a2, b2, c2, d2, e2, f2 }, [ b1    , b2    , eq3 ], [ eq1, det_g1, det_g2 ]).compute_class()\n",
    "case_2 = System({ a1, b1, c1, d1, e1, f1, a2, b2, c2, d2, e2, f2 }, [ b1    , b2 - 1, eq3 ], [ eq1, det_g1, det_g2 ]).compute_class()\n",
    "case_3 = System({ a1, b1, c1, d1, e1, f1, a2, b2, c2, d2, e2, f2 }, [ b1 - 1, b2 - 1, eq3 ], [ eq1, det_g1, det_g2 ]).compute_class()\n",
    "\n",
    "expr = case_1 + (q - 1) * case_2 + (q - 1) * case_2 + (q - 1)**2 * case_3\n",
    "sp.factor(expr)\n",
    "\n",
    "# Last output: \n",
    "#  q**6 * (q - 2) * (q - 1)**4"
   ]
  },
  {
   "cell_type": "code",
   "execution_count": 7,
   "metadata": {},
   "outputs": [
    {
     "data": {
      "text/latex": [
       "$\\displaystyle q^{6} \\left(q - 2\\right) \\left(q - 1\\right)^{4}$"
      ],
      "text/plain": [
       "q**6*(q - 2)*(q - 1)**4"
      ]
     },
     "execution_count": 7,
     "metadata": {},
     "output_type": "execute_result"
    }
   ],
   "source": [
    "# Class of { [g1, g2] in C4 }\n",
    "C = g1 * g2 * g1_inv * g2_inv\n",
    "eq1 = sp.factor(C[0, 1]) / a1 / a2 / f1 / f2\n",
    "eq2 = sp.factor(C[0, 2]) / a1 / a2\n",
    "eq3 = sp.factor(C[1, 2]) / a1 / a2 / d1 / d2\n",
    "\n",
    "case_1 = System({ a1, b1, c1, d1, e1, f1, a2, b2, c2, d2, e2, f2 }, [ b1    , b2    , eq1 ], [ eq3, det_g1, det_g2 ]).compute_class()\n",
    "case_2 = System({ a1, b1, c1, d1, e1, f1, a2, b2, c2, d2, e2, f2 }, [ b1    , b2 - 1, eq1 ], [ eq3, det_g1, det_g2 ]).compute_class()\n",
    "case_3 = System({ a1, b1, c1, d1, e1, f1, a2, b2, c2, d2, e2, f2 }, [ b1 - 1, b2 - 1, eq1 ], [ eq3, det_g1, det_g2 ]).compute_class()\n",
    "\n",
    "expr = case_1 + (q - 1) * case_2 + (q - 1) * case_2 + (q - 1)**2 * case_3\n",
    "sp.factor(expr)\n",
    "\n",
    "# Last output: \n",
    "#  q**6 * (q - 2) * (q - 1)**4"
   ]
  },
  {
   "cell_type": "code",
   "execution_count": 8,
   "metadata": {},
   "outputs": [
    {
     "data": {
      "text/latex": [
       "$\\displaystyle q^{3} \\left(q - 1\\right)^{6} \\left(q + 1\\right)$"
      ],
      "text/plain": [
       "q**3*(q - 1)**6*(q + 1)"
      ]
     },
     "execution_count": 8,
     "metadata": {},
     "output_type": "execute_result"
    }
   ],
   "source": [
    "# Class of { [g1, g2] in C5 }\n",
    "C = g1 * g2 * g1_inv * g2_inv\n",
    "eq1 = sp.factor(C[0, 1]) / a1 / a2 / f1 / f2\n",
    "eq2 = sp.factor(C[0, 2]) / a1 / a2\n",
    "eq3 = sp.factor(C[1, 2]) / a1 / a2 / d1 / d2\n",
    "\n",
    "case_1 = System({ a1, b1, c1, d1, e1, f1, a2, b2, c2, d2, e2, f2 }, [ b1    , b2    , eq1, eq3 ], [ eq2, det_g1, det_g2 ]).compute_class()\n",
    "case_2 = System({ a1, b1, c1, d1, e1, f1, a2, b2, c2, d2, e2, f2 }, [ b1    , b2 - 1, eq1, eq3 ], [ eq2, det_g1, det_g2 ]).compute_class()\n",
    "case_3 = System({ a1, b1, c1, d1, e1, f1, a2, b2, c2, d2, e2, f2 }, [ b1 - 1, b2 - 1, eq1, eq3 ], [ eq2, det_g1, det_g2 ]).compute_class()\n",
    "\n",
    "expr = case_1 + (q - 1) * case_2 + (q - 1) * case_2 + (q - 1)**2 * case_3\n",
    "sp.factor(expr)\n",
    "\n",
    "# Last output: \n",
    "#  q**3 * (q - 1)**6 * (q + 1)"
   ]
  },
  {
   "cell_type": "code",
   "execution_count": 9,
   "metadata": {},
   "outputs": [],
   "source": [
    "# Conclusion:\n",
    "first_column = np.matrix([\n",
    "    U3 * q**3 * (q - 1)**4 * (q**2 + q - 1),\n",
    "    U3 * q**6 * (q - 2)**2 * (q - 1)**4,\n",
    "    U3 * q**6 * (q - 2) * (q - 1)**4,\n",
    "    U3 * q**6 * (q - 2) * (q - 1)**4,\n",
    "    U3 * q**3 * (q - 1)**6 * (q + 1)\n",
    "]).transpose()"
   ]
  },
  {
   "cell_type": "code",
   "execution_count": 10,
   "metadata": {},
   "outputs": [
    {
     "data": {
      "text/plain": [
       "True"
      ]
     },
     "execution_count": 10,
     "metadata": {},
     "output_type": "execute_result"
    }
   ],
   "source": [
    "# Check: does it add up to U3**3 ?\n",
    "sp.factor(np.sum(first_column) - U3**3) == 0"
   ]
  },
  {
   "cell_type": "markdown",
   "metadata": {},
   "source": [
    "### Computing $Z_\\pi(L)(T_i)$ for $i > 1$"
   ]
  },
  {
   "cell_type": "code",
   "execution_count": 11,
   "metadata": {},
   "outputs": [],
   "source": [
    "xi = [\n",
    "    np.matrix([ [ 1, 0, 0 ], [ 0, 1, 0 ], [ 0, 0, 1 ] ]),\n",
    "    np.matrix([ [ 1, 1, 0 ], [ 0, 1, 1 ], [ 0, 0, 1 ] ]),\n",
    "    np.matrix([ [ 1, 1, 0 ], [ 0, 1, 0 ], [ 0, 0, 1 ] ]),\n",
    "    np.matrix([ [ 1, 0, 0 ], [ 0, 1, 1 ], [ 0, 0, 1 ] ]),\n",
    "    np.matrix([ [ 1, 0, 1 ], [ 0, 1, 0 ], [ 0, 0, 1 ] ])\n",
    "]"
   ]
  },
  {
   "cell_type": "code",
   "execution_count": 12,
   "metadata": {},
   "outputs": [],
   "source": [
    "u, v, w = sp.symbols('u v w')\n",
    "\n",
    "unipotents_data = [\n",
    "    ( np.matrix([ [ 1, 0, 0 ], [ 0, 1, 0 ], [ 0, 0, 1 ] ]), [], [] ),\n",
    "    ( np.matrix([ [ 1, u, v ], [ 0, 1, w ], [ 0, 0, 1 ] ]), [], [ u, w ] ),\n",
    "    ( np.matrix([ [ 1, u, v ], [ 0, 1, 0 ], [ 0, 0, 1 ] ]), [], [ u ] ),\n",
    "    ( np.matrix([ [ 1, 0, v ], [ 0, 1, w ], [ 0, 0, 1 ] ]), [], [ w ] ),\n",
    "    ( np.matrix([ [ 1, 0, v ], [ 0, 1, 0 ], [ 0, 0, 1 ] ]), [], [ v ] ),\n",
    "]"
   ]
  },
  {
   "cell_type": "code",
   "execution_count": 13,
   "metadata": {},
   "outputs": [],
   "source": [
    "def equations_over_C_i(M, i):\n",
    "    M = sp.Matrix(M)\n",
    "    if i == 0:\n",
    "        return ([ M[0,1], M[0,2], M[1,2] ], [])\n",
    "    if i == 1:\n",
    "        return ([], [ M[0,1], M[1,2] ])\n",
    "    if i == 2:\n",
    "        return ([ M[1,2] ], [ M[0,1] ])\n",
    "    if i == 3:\n",
    "        return ([ M[0,1] ], [ M[1,2] ])\n",
    "    if i == 4:\n",
    "        return ([ M[0,1], M[1,2] ], [ M[0,2] ])"
   ]
  },
  {
   "cell_type": "code",
   "execution_count": 14,
   "metadata": {},
   "outputs": [],
   "source": [
    "# Tensor F: entry F[i, j, k] = class of { g in C_j : g xi_k in C_i }\n",
    "F = np.zeros(5**3, dtype = object).reshape(5, 5, 5)"
   ]
  },
  {
   "cell_type": "code",
   "execution_count": 15,
   "metadata": {
    "scrolled": true
   },
   "outputs": [
    {
     "name": "stdout",
     "output_type": "stream",
     "text": [
      "F[0,0,0] = 1\n",
      "F[1,0,0] = 0\n",
      "F[2,0,0] = 0\n",
      "F[3,0,0] = 0\n",
      "F[4,0,0] = 0\n",
      "F[0,0,1] = 0\n",
      "F[1,0,1] = 1\n",
      "F[2,0,1] = 0\n",
      "F[3,0,1] = 0\n",
      "F[4,0,1] = 0\n",
      "F[0,0,2] = 0\n",
      "F[1,0,2] = 0\n",
      "F[2,0,2] = 1\n",
      "F[3,0,2] = 0\n",
      "F[4,0,2] = 0\n",
      "F[0,0,3] = 0\n",
      "F[1,0,3] = 0\n",
      "F[2,0,3] = 0\n",
      "F[3,0,3] = 1\n",
      "F[4,0,3] = 0\n",
      "F[0,0,4] = 0\n",
      "F[1,0,4] = 0\n",
      "F[2,0,4] = 0\n",
      "F[3,0,4] = 0\n",
      "F[4,0,4] = 1\n",
      "F[0,1,0] = 0\n",
      "F[1,1,0] = q*(q - 1)**2\n",
      "F[2,1,0] = 0\n",
      "F[3,1,0] = 0\n",
      "F[4,1,0] = 0\n",
      "F[0,1,1] = 1\n",
      "F[1,1,1] = q*(q - 2)**2\n",
      "F[2,1,1] = q*(q - 2)\n",
      "F[3,1,1] = q*(q - 2)\n",
      "F[4,1,1] = q - 1\n",
      "F[0,1,2] = 0\n",
      "F[1,1,2] = q*(q - 2)*(q - 1)\n",
      "F[2,1,2] = 0\n",
      "F[3,1,2] = q*(q - 1)\n",
      "F[4,1,2] = 0\n",
      "F[0,1,3] = 0\n",
      "F[1,1,3] = q*(q - 2)*(q - 1)\n",
      "F[2,1,3] = q*(q - 1)\n",
      "F[3,1,3] = 0\n",
      "F[4,1,3] = 0\n",
      "F[0,1,4] = 0\n",
      "F[1,1,4] = q*(q - 1)**2\n",
      "F[2,1,4] = 0\n",
      "F[3,1,4] = 0\n",
      "F[4,1,4] = 0\n",
      "F[0,2,0] = 0\n",
      "F[1,2,0] = 0\n",
      "F[2,2,0] = q*(q - 1)\n",
      "F[3,2,0] = 0\n",
      "F[4,2,0] = 0\n",
      "F[0,2,1] = 0\n",
      "F[1,2,1] = q*(q - 2)\n",
      "F[2,2,1] = 0\n",
      "F[3,2,1] = q\n",
      "F[4,2,1] = 0\n",
      "F[0,2,2] = 1\n",
      "F[1,2,2] = 0\n",
      "F[2,2,2] = q*(q - 2)\n",
      "F[3,2,2] = 0\n",
      "F[4,2,2] = q - 1\n",
      "F[0,2,3] = 0\n",
      "F[1,2,3] = q*(q - 1)\n",
      "F[2,2,3] = 0\n",
      "F[3,2,3] = 0\n",
      "F[4,2,3] = 0\n",
      "F[0,2,4] = 0\n",
      "F[1,2,4] = 0\n",
      "F[2,2,4] = q*(q - 1)\n",
      "F[3,2,4] = 0\n",
      "F[4,2,4] = 0\n",
      "F[0,3,0] = 0\n",
      "F[1,3,0] = 0\n",
      "F[2,3,0] = 0\n",
      "F[3,3,0] = q*(q - 1)\n",
      "F[4,3,0] = 0\n",
      "F[0,3,1] = 0\n",
      "F[1,3,1] = q*(q - 2)\n",
      "F[2,3,1] = q\n",
      "F[3,3,1] = 0\n",
      "F[4,3,1] = 0\n",
      "F[0,3,2] = 0\n",
      "F[1,3,2] = q*(q - 1)\n",
      "F[2,3,2] = 0\n",
      "F[3,3,2] = 0\n",
      "F[4,3,2] = 0\n",
      "F[0,3,3] = 1\n",
      "F[1,3,3] = 0\n",
      "F[2,3,3] = 0\n",
      "F[3,3,3] = q*(q - 2)\n",
      "F[4,3,3] = q - 1\n",
      "F[0,3,4] = 0\n",
      "F[1,3,4] = 0\n",
      "F[2,3,4] = 0\n",
      "F[3,3,4] = q*(q - 1)\n",
      "F[4,3,4] = 0\n",
      "F[0,4,0] = 0\n",
      "F[1,4,0] = 0\n",
      "F[2,4,0] = 0\n",
      "F[3,4,0] = 0\n",
      "F[4,4,0] = q - 1\n",
      "F[0,4,1] = 0\n",
      "F[1,4,1] = q - 1\n",
      "F[2,4,1] = 0\n",
      "F[3,4,1] = 0\n",
      "F[4,4,1] = 0\n",
      "F[0,4,2] = 0\n",
      "F[1,4,2] = 0\n",
      "F[2,4,2] = q - 1\n",
      "F[3,4,2] = 0\n",
      "F[4,4,2] = 0\n",
      "F[0,4,3] = 0\n",
      "F[1,4,3] = 0\n",
      "F[2,4,3] = 0\n",
      "F[3,4,3] = q - 1\n",
      "F[4,4,3] = 0\n",
      "F[0,4,4] = 1\n",
      "F[1,4,4] = 0\n",
      "F[2,4,4] = 0\n",
      "F[3,4,4] = 0\n",
      "F[4,4,4] = q - 2\n"
     ]
    }
   ],
   "source": [
    "for j in range(5):\n",
    "    g, g_cl_eqs, g_op_eqs = unipotents_data[j]\n",
    "    for k in range(5):\n",
    "        for i in range(5):\n",
    "            cl_eqs, op_eqs = equations_over_C_i(g * xi[k], i)\n",
    "            expr = System(sp.Matrix(g).free_symbols, cl_eqs + g_cl_eqs, op_eqs + g_op_eqs).compute_class()\n",
    "            F[i, j, k] = sp.factor(expr)\n",
    "            print('F[{},{},{}] = {}'.format(i, j, k, F[i,j,k]))"
   ]
  },
  {
   "cell_type": "code",
   "execution_count": 16,
   "metadata": {
    "scrolled": true
   },
   "outputs": [
    {
     "name": "stdout",
     "output_type": "stream",
     "text": [
      "Orbit xi[0] = 1\n",
      "Orbit xi[0] = 1\n",
      "Orbit xi[0] = 1\n",
      "Orbit xi[0] = 1\n",
      "Orbit xi[0] = 1\n",
      "Orbit xi[1] = q*(q - 1)**2\n",
      "Orbit xi[1] = q*(q - 1)**2\n",
      "Orbit xi[1] = q*(q - 1)**2\n",
      "Orbit xi[1] = q*(q - 1)**2\n",
      "Orbit xi[1] = q*(q - 1)**2\n",
      "Orbit xi[2] = q*(q - 1)\n",
      "Orbit xi[2] = q*(q - 1)\n",
      "Orbit xi[2] = q*(q - 1)\n",
      "Orbit xi[2] = q*(q - 1)\n",
      "Orbit xi[2] = q*(q - 1)\n",
      "Orbit xi[3] = q*(q - 1)\n",
      "Orbit xi[3] = q*(q - 1)\n",
      "Orbit xi[3] = q*(q - 1)\n",
      "Orbit xi[3] = q*(q - 1)\n",
      "Orbit xi[3] = q*(q - 1)\n",
      "Orbit xi[4] = q - 1\n",
      "Orbit xi[4] = q - 1\n",
      "Orbit xi[4] = q - 1\n",
      "Orbit xi[4] = q - 1\n",
      "Orbit xi[4] = q - 1\n"
     ]
    }
   ],
   "source": [
    "# Check that sum of F[i,j,k] over i equals orbit of xi[j] (for each k)\n",
    "for j in range(5):\n",
    "    for k in range(5):\n",
    "        s = np.sum(F[:,j,k])\n",
    "        print('Orbit xi[{}] = {}'.format(j, sp.factor(s)))"
   ]
  },
  {
   "cell_type": "code",
   "execution_count": 17,
   "metadata": {},
   "outputs": [],
   "source": [
    "Z_pi_L = np.tensordot(F, first_column, 1).reshape(5, 5)\n",
    "for i in range(5):\n",
    "    for j in range(5):\n",
    "        Z_pi_L[i,j] = sp.factor(Z_pi_L[i,j])\n",
    "Z_pi_L = sp.Matrix(Z_pi_L)"
   ]
  },
  {
   "cell_type": "code",
   "execution_count": 18,
   "metadata": {},
   "outputs": [
    {
     "data": {
      "text/latex": [
       "$\\displaystyle \\left[\\begin{matrix}q^{2} + q - 1 & q^{3} \\left(q - 2\\right)^{2} & q^{3} \\left(q - 2\\right) & q^{3} \\left(q - 2\\right) & \\left(q - 1\\right)^{2} \\left(q + 1\\right)\\\\q^{3} \\left(q - 2\\right)^{2} & q^{4} \\left(q^{2} - 3 q + 3\\right)^{2} & q^{4} \\left(q - 2\\right) \\left(q^{2} - 3 q + 3\\right) & q^{4} \\left(q - 2\\right) \\left(q^{2} - 3 q + 3\\right) & q^{3} \\left(q - 2\\right)^{2} \\left(q - 1\\right)\\\\q^{3} \\left(q - 2\\right) & q^{4} \\left(q - 2\\right) \\left(q^{2} - 3 q + 3\\right) & q^{4} \\left(q^{2} - 3 q + 3\\right) & q^{4} \\left(q - 2\\right)^{2} & q^{3} \\left(q - 2\\right) \\left(q - 1\\right)\\\\q^{3} \\left(q - 2\\right) & q^{4} \\left(q - 2\\right) \\left(q^{2} - 3 q + 3\\right) & q^{4} \\left(q - 2\\right)^{2} & q^{4} \\left(q^{2} - 3 q + 3\\right) & q^{3} \\left(q - 2\\right) \\left(q - 1\\right)\\\\\\left(q - 1\\right)^{2} \\left(q + 1\\right) & q^{3} \\left(q - 2\\right)^{2} \\left(q - 1\\right) & q^{3} \\left(q - 2\\right) \\left(q - 1\\right) & q^{3} \\left(q - 2\\right) \\left(q - 1\\right) & \\left(q - 1\\right) \\left(q^{3} - q^{2} + 1\\right)\\end{matrix}\\right]$"
      ],
      "text/plain": [
       "Matrix([\n",
       "[      q**2 + q - 1,               q**3*(q - 2)**2,                  q**3*(q - 2),                  q**3*(q - 2),        (q - 1)**2*(q + 1)],\n",
       "[   q**3*(q - 2)**2,      q**4*(q**2 - 3*q + 3)**2, q**4*(q - 2)*(q**2 - 3*q + 3), q**4*(q - 2)*(q**2 - 3*q + 3),   q**3*(q - 2)**2*(q - 1)],\n",
       "[      q**3*(q - 2), q**4*(q - 2)*(q**2 - 3*q + 3),         q**4*(q**2 - 3*q + 3),               q**4*(q - 2)**2,      q**3*(q - 2)*(q - 1)],\n",
       "[      q**3*(q - 2), q**4*(q - 2)*(q**2 - 3*q + 3),               q**4*(q - 2)**2,         q**4*(q**2 - 3*q + 3),      q**3*(q - 2)*(q - 1)],\n",
       "[(q - 1)**2*(q + 1),       q**3*(q - 2)**2*(q - 1),          q**3*(q - 2)*(q - 1),          q**3*(q - 2)*(q - 1), (q - 1)*(q**3 - q**2 + 1)]])"
      ]
     },
     "execution_count": 18,
     "metadata": {},
     "output_type": "execute_result"
    }
   ],
   "source": [
    "# Print Z_pi_L up to a factor of q**6 * (q - 1)**7\n",
    "Z_pi_L / q**6 / (q - 1)**7"
   ]
  },
  {
   "cell_type": "markdown",
   "metadata": {},
   "source": [
    "### The map $\\eta = \\pi_! \\pi^*$"
   ]
  },
  {
   "cell_type": "code",
   "execution_count": 19,
   "metadata": {},
   "outputs": [],
   "source": [
    "eta = np.matrix(np.zeros((5, 5), dtype = object))\n",
    "\n",
    "# All are simply points:\n",
    "eta[0,0] = 1\n",
    "eta[1,1] = (q - 1)**2 * q\n",
    "eta[2,2] = (q - 1) * q\n",
    "eta[3,3] = (q - 1) * q\n",
    "eta[4,4] = (q - 1)\n",
    "\n",
    "# Computing eta_inv:\n",
    "eta_inv = np.matrix(np.zeros((5, 5), dtype = object))\n",
    "eta_inv[0,0] = sp.sympify(1) / eta[0,0]\n",
    "eta_inv[1,1] = sp.sympify(1) / eta[1,1]\n",
    "eta_inv[2,2] = sp.sympify(1) / eta[2,2]\n",
    "eta_inv[3,3] = sp.sympify(1) / eta[3,3]\n",
    "eta_inv[4,4] = sp.sympify(1) / eta[4,4]"
   ]
  },
  {
   "cell_type": "code",
   "execution_count": 20,
   "metadata": {},
   "outputs": [],
   "source": [
    "Z_tilde_L = Z_pi_L * eta_inv"
   ]
  },
  {
   "cell_type": "code",
   "execution_count": 21,
   "metadata": {},
   "outputs": [
    {
     "data": {
      "text/latex": [
       "$\\displaystyle \\left[\\begin{matrix}\\left(q - 1\\right)^{2} \\left(q^{2} + q - 1\\right) & q^{2} \\left(q - 2\\right)^{2} & q^{2} \\left(q - 2\\right) \\left(q - 1\\right) & q^{2} \\left(q - 2\\right) \\left(q - 1\\right) & \\left(q - 1\\right)^{3} \\left(q + 1\\right)\\\\q^{3} \\left(q - 2\\right)^{2} \\left(q - 1\\right)^{2} & q^{3} \\left(q^{2} - 3 q + 3\\right)^{2} & q^{3} \\left(q - 2\\right) \\left(q - 1\\right) \\left(q^{2} - 3 q + 3\\right) & q^{3} \\left(q - 2\\right) \\left(q - 1\\right) \\left(q^{2} - 3 q + 3\\right) & q^{3} \\left(q - 2\\right)^{2} \\left(q - 1\\right)^{2}\\\\q^{3} \\left(q - 2\\right) \\left(q - 1\\right)^{2} & q^{3} \\left(q - 2\\right) \\left(q^{2} - 3 q + 3\\right) & q^{3} \\left(q - 1\\right) \\left(q^{2} - 3 q + 3\\right) & q^{3} \\left(q - 2\\right)^{2} \\left(q - 1\\right) & q^{3} \\left(q - 2\\right) \\left(q - 1\\right)^{2}\\\\q^{3} \\left(q - 2\\right) \\left(q - 1\\right)^{2} & q^{3} \\left(q - 2\\right) \\left(q^{2} - 3 q + 3\\right) & q^{3} \\left(q - 2\\right)^{2} \\left(q - 1\\right) & q^{3} \\left(q - 1\\right) \\left(q^{2} - 3 q + 3\\right) & q^{3} \\left(q - 2\\right) \\left(q - 1\\right)^{2}\\\\\\left(q - 1\\right)^{4} \\left(q + 1\\right) & q^{2} \\left(q - 2\\right)^{2} \\left(q - 1\\right) & q^{2} \\left(q - 2\\right) \\left(q - 1\\right)^{2} & q^{2} \\left(q - 2\\right) \\left(q - 1\\right)^{2} & \\left(q - 1\\right)^{2} \\left(q^{3} - q^{2} + 1\\right)\\end{matrix}\\right]$"
      ],
      "text/plain": [
       "Matrix([\n",
       "[ (q - 1)**2*(q**2 + q - 1),               q**2*(q - 2)**2,                  q**2*(q - 2)*(q - 1),                  q**2*(q - 2)*(q - 1),           (q - 1)**3*(q + 1)],\n",
       "[q**3*(q - 2)**2*(q - 1)**2,      q**3*(q**2 - 3*q + 3)**2, q**3*(q - 2)*(q - 1)*(q**2 - 3*q + 3), q**3*(q - 2)*(q - 1)*(q**2 - 3*q + 3),   q**3*(q - 2)**2*(q - 1)**2],\n",
       "[   q**3*(q - 2)*(q - 1)**2, q**3*(q - 2)*(q**2 - 3*q + 3),         q**3*(q - 1)*(q**2 - 3*q + 3),               q**3*(q - 2)**2*(q - 1),      q**3*(q - 2)*(q - 1)**2],\n",
       "[   q**3*(q - 2)*(q - 1)**2, q**3*(q - 2)*(q**2 - 3*q + 3),               q**3*(q - 2)**2*(q - 1),         q**3*(q - 1)*(q**2 - 3*q + 3),      q**3*(q - 2)*(q - 1)**2],\n",
       "[        (q - 1)**4*(q + 1),       q**2*(q - 2)**2*(q - 1),               q**2*(q - 2)*(q - 1)**2,               q**2*(q - 2)*(q - 1)**2, (q - 1)**2*(q**3 - q**2 + 1)]])"
      ]
     },
     "execution_count": 21,
     "metadata": {},
     "output_type": "execute_result"
    }
   ],
   "source": [
    "# Print Z_tilde_L up to a factor q**6 * (q - 1)**5\n",
    "Z_tilde_L / q**6 / (q - 1)**5"
   ]
  },
  {
   "cell_type": "markdown",
   "metadata": {},
   "source": [
    "### Diagonalizing $\\tilde{Z}(L)$"
   ]
  },
  {
   "cell_type": "code",
   "execution_count": 22,
   "metadata": {},
   "outputs": [],
   "source": [
    "# Eigenvalues / eigenvectors for Z_tilde_L (up to factor q**6 * (q - 1)**5)\n",
    "M = Z_tilde_L / q**6 / (q - 1)**5\n",
    "\n",
    "eigenvalues = [\n",
    "    q**3,\n",
    "    q * (q - 1)**2,\n",
    "    q**3 * (q - 1)**2,\n",
    "    q**3 * (q - 1)**2,\n",
    "    q**3 * (q - 1)**4\n",
    "]\n",
    "\n",
    "A = np.matrix([\n",
    "    [ 1, 1, 0, 1, 1 ],\n",
    "    [ q, 0, 0, -q*(q - 1), q*(q - 1)**2 ],\n",
    "    [ -q, 0, 1, 0, q*(q - 1)],\n",
    "    [ -q, 0, -1, q*(q - 2), q*(q - 1)],\n",
    "    [ q - 1, -1, 0, q - 1, q - 1]\n",
    "])"
   ]
  },
  {
   "cell_type": "code",
   "execution_count": 23,
   "metadata": {},
   "outputs": [
    {
     "name": "stdout",
     "output_type": "stream",
     "text": [
      "True\n",
      "True\n",
      "True\n",
      "True\n",
      "True\n"
     ]
    }
   ],
   "source": [
    "# Check these are indeed eigenvalues/eigenvectors\n",
    "for i in range(5):\n",
    "    print(not np.any(sp.expand(M * A[:,i] - eigenvalues[i] * A[:,i])))"
   ]
  },
  {
   "cell_type": "code",
   "execution_count": 24,
   "metadata": {},
   "outputs": [
    {
     "data": {
      "text/latex": [
       "$\\displaystyle \\left[\\begin{matrix}1 & 1 & 0 & 1 & 1\\\\q & 0 & 0 & - q \\left(q - 1\\right) & q \\left(q - 1\\right)^{2}\\\\- q & 0 & 1 & 0 & q \\left(q - 1\\right)\\\\- q & 0 & -1 & q \\left(q - 2\\right) & q \\left(q - 1\\right)\\\\q - 1 & -1 & 0 & q - 1 & q - 1\\end{matrix}\\right]$"
      ],
      "text/plain": [
       "Matrix([\n",
       "[    1,  1,  0,          1,            1],\n",
       "[    q,  0,  0, -q*(q - 1), q*(q - 1)**2],\n",
       "[   -q,  0,  1,          0,    q*(q - 1)],\n",
       "[   -q,  0, -1,  q*(q - 2),    q*(q - 1)],\n",
       "[q - 1, -1,  0,      q - 1,        q - 1]])"
      ]
     },
     "execution_count": 24,
     "metadata": {},
     "output_type": "execute_result"
    }
   ],
   "source": [
    "# Print matrix A\n",
    "sp.Matrix(A)"
   ]
  }
 ],
 "metadata": {
  "kernelspec": {
   "display_name": "Python 3",
   "language": "python",
   "name": "python3"
  },
  "language_info": {
   "codemirror_mode": {
    "name": "ipython",
    "version": 3
   },
   "file_extension": ".py",
   "mimetype": "text/x-python",
   "name": "python",
   "nbconvert_exporter": "python",
   "pygments_lexer": "ipython3",
   "version": "3.7.5"
  }
 },
 "nbformat": 4,
 "nbformat_minor": 2
}

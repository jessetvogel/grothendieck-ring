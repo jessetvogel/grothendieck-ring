{
 "cells": [
  {
   "cell_type": "code",
   "execution_count": 3,
   "metadata": {},
   "outputs": [],
   "source": [
    "import numpy as np\n",
    "import sympy as sp\n",
    "\n",
    "from system import *"
   ]
  },
  {
   "cell_type": "markdown",
   "metadata": {},
   "source": [
    "### Initialize variables"
   ]
  },
  {
   "cell_type": "code",
   "execution_count": 4,
   "metadata": {},
   "outputs": [],
   "source": [
    "a, b, c = sp.symbols('a b c')\n",
    "\n",
    "# Computation of some classes\n",
    "U2 = sp.factor(System({ a, b, c }, [], [ a*c ]).compute_class())\n",
    "\n",
    "# The classes of the orbit spaces\n",
    "S = q - 1 # isomorphic to C*\n",
    "J = q - 1 # isomorphic to C*\n",
    "M = (q - 1)**2 # isomorphic to C* x C*\n",
    "\n",
    "# Subspaces of U\n",
    "SS = S # because they are isomorphic\n",
    "JJ = J * (q - 1) # trivial fibration JJ = J x C*\n",
    "MM = sp.factor(U2 - SS - JJ) # this is the easy way (however, System({ a, b, c }, [], [ a - c, a*c ]).compute_class() would also work)\n",
    "\n",
    "# Classes of orbits and stabilizers of generic S, J or M elements\n",
    "orbit_generic_S = 1 # singleton orbit\n",
    "orbit_generic_J = q - 1 # orbit is C*\n",
    "orbit_generic_M = q # matrices of given a and c (b is free)\n",
    "\n",
    "stab_generic_S = U2 # whole group stabilizes scalar matrices\n",
    "stab_generic_J = (q - 1) * q # entries on diagonal must be the same\n",
    "stab_generic_M = (q - 1)**2 # diagonal matrices"
   ]
  },
  {
   "cell_type": "code",
   "execution_count": 5,
   "metadata": {},
   "outputs": [
    {
     "name": "stdout",
     "output_type": "stream",
     "text": [
      "True\n",
      "True\n",
      "True\n"
     ]
    }
   ],
   "source": [
    "# Some checks\n",
    "print(sp.expand(orbit_generic_S * stab_generic_S - U2) == 0)\n",
    "print(sp.expand(orbit_generic_J * stab_generic_J - U2) == 0)\n",
    "print(sp.expand(orbit_generic_M * stab_generic_M - U2) == 0)"
   ]
  },
  {
   "cell_type": "code",
   "execution_count": 6,
   "metadata": {},
   "outputs": [],
   "source": [
    "# Used for creating some expressions\n",
    "x, a1, b1, c1, a2, b2, c2 = sp.symbols('x a1 b1 c1 a2 b2 c2')\n",
    "j = np.matrix([[ 1, x ], [ 0, 1 ]])\n",
    "g1 = np.matrix([[ a1, b1 ], [ 0, c1 ]])\n",
    "g2 = np.matrix([[ a2, b2 ], [ 0, c2 ]])\n",
    "g1_inv = np.matrix([[ c1, -b1 ], [ 0, a1 ]])\n",
    "g2_inv = np.matrix([[ c2, -b2 ], [ 0, a2 ]])\n",
    "det_g1 = a1*c1\n",
    "det_g2 = a2*c2"
   ]
  },
  {
   "cell_type": "code",
   "execution_count": 7,
   "metadata": {},
   "outputs": [],
   "source": [
    "# Define indices for the set of generators we consider\n",
    "T_S = 0\n",
    "T_J = 1\n",
    "T_M = 2"
   ]
  },
  {
   "cell_type": "markdown",
   "metadata": {},
   "source": [
    "### Computing $Z_\\pi(L)$"
   ]
  },
  {
   "cell_type": "code",
   "execution_count": 8,
   "metadata": {},
   "outputs": [],
   "source": [
    "# Computing Z_pi(L)\n",
    "Z_pi_L = np.matrix(np.zeros((3, 3), dtype = object))\n",
    "\n",
    "# On T_S:\n",
    "C = g1 * g2 * g1_inv * g2_inv\n",
    "Z_pi_L[T_S, T_S] = sp.factor(U2 * System({ a1, b1, c1, a2, b2, c2 }, [ C[0,0] - det_g1 * det_g2, C[0,1], C[1,1] - det_g1 * det_g2 ], [ det_g1, det_g2 ]).compute_class())\n",
    "Z_pi_L[T_J, T_S] = sp.factor(U2 * U2 * U2 - Z_pi_L[T_S, T_S])\n",
    "Z_pi_L[T_M, T_S] = 0\n",
    "\n",
    "# On T_J:\n",
    "Z_pi_L[T_S, T_J] = Z_pi_L[T_J, T_S] # isomorphic\n",
    "Z_pi_L[T_J, T_J] = sp.factor(orbit_generic_J * U2 * U2 * U2 - Z_pi_L[T_S, T_J]) # every j [g1, g2] has trace equal to tr(j)\n",
    "Z_pi_L[T_M, T_J] = 0\n",
    "\n",
    "# On T_M:\n",
    "Z_pi_L[T_M, T_M] = orbit_generic_M * U2 * U2 * U2"
   ]
  },
  {
   "cell_type": "markdown",
   "metadata": {},
   "source": [
    "### Computing $Z_\\pi(L_{\\mathcal{E}})$"
   ]
  },
  {
   "cell_type": "code",
   "execution_count": 9,
   "metadata": {},
   "outputs": [],
   "source": [
    "# Computing Z(parabolic)\n",
    "Z_pi_para_S = np.matrix(np.zeros((3, 3), dtype = object))\n",
    "Z_pi_para_S[T_S, T_S] = orbit_generic_S * U2\n",
    "Z_pi_para_S[T_J, T_J] = orbit_generic_J * U2\n",
    "Z_pi_para_S[T_M, T_M] = orbit_generic_M * U2\n",
    "\n",
    "Z_pi_para_J = np.matrix(np.zeros((3, 3), dtype = object))\n",
    "Z_pi_para_J[T_J, T_S] = orbit_generic_S * U2 * orbit_generic_J\n",
    "Z_pi_para_J[T_S, T_J] = orbit_generic_J * U2\n",
    "Z_pi_para_J[T_J, T_J] = orbit_generic_J * U2 * (orbit_generic_J - 1)\n",
    "Z_pi_para_J[T_M, T_M] = orbit_generic_M * U2 * orbit_generic_J\n",
    "\n",
    "Z_pi_para_M = np.matrix(np.zeros((4, 4), dtype = object))\n",
    "Z_pi_para_M[T_M, T_S] = orbit_generic_S * U2 * orbit_generic_M\n",
    "Z_pi_para_M[T_M, T_J] = orbit_generic_J * U2 * orbit_generic_M\n",
    "Z_pi_para_M[T_M, T_M] = orbit_generic_M * U2 * orbit_generic_M\n",
    "Z_pi_para_M[T_S, T_M + 1] = orbit_generic_M * U2\n",
    "Z_pi_para_M[T_J, T_M + 1] = orbit_generic_M * U2 * (orbit_generic_M - 1)"
   ]
  },
  {
   "cell_type": "markdown",
   "metadata": {},
   "source": [
    "### The map $\\eta = \\pi_! \\pi^*$"
   ]
  },
  {
   "cell_type": "code",
   "execution_count": 10,
   "metadata": {},
   "outputs": [],
   "source": [
    "# Computing eta:\n",
    "eta = np.matrix(np.zeros((3, 3), dtype = object))\n",
    "\n",
    "# All T_S, T_J and T_M are simply points:\n",
    "eta[T_S, T_S] = orbit_generic_S\n",
    "eta[T_J, T_J] = orbit_generic_J\n",
    "eta[T_M, T_M] = orbit_generic_M\n",
    "\n",
    "# Computing eta_inv:\n",
    "eta_inv = np.matrix(np.zeros((3, 3), dtype = object))\n",
    "eta_inv[T_S, T_S] = sp.Integer(1) / orbit_generic_S\n",
    "eta_inv[T_J, T_J] = sp.Integer(1) / orbit_generic_J\n",
    "eta_inv[T_M, T_M] = sp.Integer(1) / orbit_generic_M"
   ]
  },
  {
   "cell_type": "markdown",
   "metadata": {},
   "source": [
    "### Computing $\\tilde{Z}$"
   ]
  },
  {
   "cell_type": "code",
   "execution_count": 11,
   "metadata": {},
   "outputs": [
    {
     "data": {
      "text/latex": [
       "$\\displaystyle \\left[\\begin{matrix}q^{3} \\left(q - 1\\right)^{4} & 0 & 0\\\\0 & q^{3} \\left(q - 1\\right)^{6} & 0\\\\0 & 0 & q^{3} \\left(q - 1\\right)^{6}\\end{matrix}\\right]$"
      ],
      "text/plain": [
       "[[q**3*(q - 1)**4, 0, 0], [0, q**3*(q - 1)**6, 0], [0, 0, q**3*(q - 1)**6]]"
      ]
     },
     "execution_count": 11,
     "metadata": {},
     "output_type": "execute_result"
    }
   ],
   "source": [
    "# Compute Z_tilde_L\n",
    "Z_tilde_L = Z_pi_L * eta_inv\n",
    "\n",
    "# Basis for diagonalizing Z_tilde_L\n",
    "A = np.matrix([[ 1, 1, 0], [ -1, q - 1, 0 ], [ 0, 0, 1 ]])\n",
    "A_inv = np.matrix([[ (q - 1) / q, -1 / q, 0], [ 1 / q, 1 / q, 0 ], [ 0, 0, 1 ]])\n",
    "\n",
    "# Look at eigenvalues\n",
    "sp.factor(A_inv * Z_tilde_L * A)"
   ]
  },
  {
   "cell_type": "code",
   "execution_count": 12,
   "metadata": {},
   "outputs": [],
   "source": [
    "# Compute Z_tilde(parabolic)\n",
    "Z_tilde_para_S = Z_pi_para_S * eta_inv\n",
    "Z_tilde_para_J = Z_pi_para_J * eta_inv\n",
    "# ZZ_para_M = ?"
   ]
  },
  {
   "cell_type": "code",
   "execution_count": 13,
   "metadata": {},
   "outputs": [
    {
     "data": {
      "text/latex": [
       "$\\displaystyle \\left[\\begin{matrix}-1 & \\frac{1}{q - 1} & 0\\\\1 & 1 & 0\\\\0 & 0 & 1\\end{matrix}\\right]$"
      ],
      "text/plain": [
       "Matrix([\n",
       "[-1, 1/(q - 1), 0],\n",
       "[ 1,         1, 0],\n",
       "[ 0,         0, 1]])"
      ]
     },
     "execution_count": 13,
     "metadata": {},
     "output_type": "execute_result"
    }
   ],
   "source": [
    "# Diagonalize Z_tilde_para_J / (q * (q - 1)**2)\n",
    "P, D = sp.Matrix(sp.factor(Z_tilde_para_J / (q * (q - 1)**2))).diagonalize()\n",
    "P"
   ]
  },
  {
   "cell_type": "code",
   "execution_count": 14,
   "metadata": {},
   "outputs": [
    {
     "data": {
      "text/latex": [
       "$\\displaystyle \\left[\\begin{matrix}-1 & 0 & 0\\\\0 & q - 1 & 0\\\\0 & 0 & q - 1\\end{matrix}\\right]$"
      ],
      "text/plain": [
       "Matrix([\n",
       "[-1,     0,     0],\n",
       "[ 0, q - 1,     0],\n",
       "[ 0,     0, q - 1]])"
      ]
     },
     "execution_count": 14,
     "metadata": {},
     "output_type": "execute_result"
    }
   ],
   "source": [
    "D"
   ]
  },
  {
   "cell_type": "markdown",
   "metadata": {},
   "source": [
    "### Computing class of character variety"
   ]
  },
  {
   "cell_type": "code",
   "execution_count": 15,
   "metadata": {},
   "outputs": [
    {
     "name": "stdout",
     "output_type": "stream",
     "text": [
      "True\n"
     ]
    }
   ],
   "source": [
    "# Case pure genus\n",
    "g = sp.Symbol('g')\n",
    "Chi = q**(2*g - 1) * (q - 1)**(2*g + 1) * ((q - 1)**(2*g - 1) + 1) # from above\n",
    "\n",
    "Chi_s = (q - 1)**(2*g)\n",
    "Chi_js = (q - 1)**(2*g) * q**(2*g)\n",
    "Chi_ms = q * ((q - 1)**(4*g) - (q - 1)**(2*g)) + (q - 1)**(2*g)\n",
    "Chi_j = Chi_js - Chi_s\n",
    "Chi_m = Chi_ms - Chi_s\n",
    "Chi_f = Chi - Chi_s - Chi_j - Chi_m\n",
    "\n",
    "R = Chi_f / (q * (q - 1)) + Chi_s + Chi_j / (q - 1) + Chi_m / q\n",
    "\n",
    "# Result will be this\n",
    "R_g = (q - 1)**(2*g - 1)*(q*(q - 1)**(2*g) - 2*(q - 1)**(2*g) + q**(2*g - 2)*(q - 1)**(2*g) - q**(2*g - 2) + q**(2*g))\n",
    "print(sp.simplify(R - R_g) == 0)"
   ]
  },
  {
   "cell_type": "code",
   "execution_count": 16,
   "metadata": {},
   "outputs": [
    {
     "name": "stdout",
     "output_type": "stream",
     "text": [
      "True\n"
     ]
    }
   ],
   "source": [
    "# Case genus and parabolic jordan\n",
    "g = sp.Symbol('g')\n",
    "l = sp.Symbol('l')\n",
    "\n",
    "Chi = q**(2*g - 1) * (q - 1)**(2*g) * ((-1)**l * (q - 1) + (q - 1)**(2*g + l)) # from above\n",
    "\n",
    "Chi_s = 0\n",
    "Chi_js = (q - 1)**(2*g) * q**(2*g) * (q - 1)/q * ((q - 1)**(l - 1) + (-1)**l)\n",
    "Chi_ms = 0\n",
    "Chi_j = Chi_js - Chi_s\n",
    "Chi_m = Chi_ms - Chi_s\n",
    "Chi_f = Chi - Chi_s - Chi_j - Chi_m\n",
    "\n",
    "R = Chi_f / (q * (q - 1)) + Chi_s + Chi_j / (q - 1) + Chi_m / q\n",
    "\n",
    "# Result will be this\n",
    "R_gj = q**(2*g - 2)*(q - 1)**(2*g) * ((-1)**l * q + (q - 1)**l * ((q - 1)**(2*g - 1) + 1))\n",
    "print(sp.simplify(R - R_gj) == 0)"
   ]
  },
  {
   "cell_type": "code",
   "execution_count": 17,
   "metadata": {},
   "outputs": [
    {
     "name": "stdout",
     "output_type": "stream",
     "text": [
      "True\n"
     ]
    }
   ],
   "source": [
    "# Case genus and parabolic mixed\n",
    "g = sp.Symbol('g')\n",
    "m = sp.Symbol('m')\n",
    "\n",
    "Chi = q**(2*g + m - 1) * (q - 1)**(4*g) # from above\n",
    "\n",
    "Chi_s = 0\n",
    "Chi_js = 0\n",
    "Chi_ms = q * (q - 1)**(4*g)\n",
    "Chi_j = Chi_js - Chi_s\n",
    "Chi_m = Chi_ms - Chi_s\n",
    "Chi_f = Chi - Chi_s - Chi_j - Chi_m\n",
    "\n",
    "R = Chi_f / (q * (q - 1)) + Chi_s + Chi_j / (q - 1) + Chi_m / q\n",
    "\n",
    "# Result will be this\n",
    "R_gm = (q - 1)**(4*g - 1) * (q - 2 + q**(2*g + m - 2))\n",
    "print(sp.simplify(R - R_gm) == 0)"
   ]
  },
  {
   "cell_type": "code",
   "execution_count": 18,
   "metadata": {},
   "outputs": [
    {
     "name": "stdout",
     "output_type": "stream",
     "text": [
      "True\n"
     ]
    }
   ],
   "source": [
    "# Case genus and parabolic jordan + mixed\n",
    "g = sp.Symbol('g')\n",
    "l = sp.Symbol('l')\n",
    "m = sp.Symbol('m')\n",
    "\n",
    "Chi = q**(2*g + m - 1) * (q - 1)**(4*g + l) # from above\n",
    "\n",
    "Chi_s = 0\n",
    "Chi_js = 0\n",
    "Chi_ms = 0\n",
    "Chi_j = Chi_js - Chi_s\n",
    "Chi_m = Chi_ms - Chi_s\n",
    "Chi_f = Chi - Chi_s - Chi_j - Chi_m\n",
    "\n",
    "R = Chi_f / (q * (q - 1)) + Chi_s + Chi_j / (q - 1) + Chi_m / q\n",
    "\n",
    "# Result will be this\n",
    "R_gjm = q**(2*g + m - 2) * (q - 1)**(4*g + l - 1)\n",
    "print(sp.simplify(R - R_gjm) == 0)"
   ]
  }
 ],
 "metadata": {
  "kernelspec": {
   "display_name": "Python 3",
   "language": "python",
   "name": "python3"
  },
  "language_info": {
   "codemirror_mode": {
    "name": "ipython",
    "version": 3
   },
   "file_extension": ".py",
   "mimetype": "text/x-python",
   "name": "python",
   "nbconvert_exporter": "python",
   "pygments_lexer": "ipython3",
   "version": "3.7.5"
  }
 },
 "nbformat": 4,
 "nbformat_minor": 2
}

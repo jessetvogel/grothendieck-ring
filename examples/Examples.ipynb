{
 "cells": [
  {
   "cell_type": "code",
   "execution_count": 1,
   "metadata": {},
   "outputs": [],
   "source": [
    "from solver import *"
   ]
  },
  {
   "cell_type": "markdown",
   "metadata": {},
   "source": [
    "First we define some variables for later use:"
   ]
  },
  {
   "cell_type": "code",
   "execution_count": 2,
   "metadata": {},
   "outputs": [],
   "source": [
    "x, y, z, w = sp.symbols('x y z w')\n",
    "a, b, c, d = sp.symbols('a b c d')"
   ]
  },
  {
   "cell_type": "markdown",
   "metadata": {},
   "source": [
    "We define a variety using the `System` class: `System(list F, list G, set V)` represents the (complex) variety given by $f = 0$ and $g \\ne 0$ for all $f \\in F$ and $g \\in G$. Furthermore, $V$ is the set of affine coordinates.\n",
    "\n",
    "For example, the following system represents the subvariety of $\\mathbb{A}^2_\\mathbb{C}$ given by $xy = 1$ and $x \\ne 2$."
   ]
  },
  {
   "cell_type": "code",
   "execution_count": 3,
   "metadata": {},
   "outputs": [],
   "source": [
    "system = System([x*y - 1 ], [ x - 2 ], { x, y })"
   ]
  },
  {
   "cell_type": "markdown",
   "metadata": {},
   "source": [
    "To compute its class in the Grothendieck ring, we first construct a `Solver` object."
   ]
  },
  {
   "cell_type": "code",
   "execution_count": 4,
   "metadata": {},
   "outputs": [],
   "source": [
    "solver = Solver()"
   ]
  },
  {
   "cell_type": "markdown",
   "metadata": {},
   "source": [
    "Now we compute the class of our system as follows:"
   ]
  },
  {
   "cell_type": "code",
   "execution_count": 5,
   "metadata": {},
   "outputs": [
    {
     "data": {
      "text/latex": [
       "$\\displaystyle q - 2$"
      ],
      "text/plain": [
       "q - 2"
      ]
     },
     "execution_count": 5,
     "metadata": {},
     "output_type": "execute_result"
    }
   ],
   "source": [
    "solver.compute_class(system)"
   ]
  },
  {
   "cell_type": "markdown",
   "metadata": {},
   "source": [
    "where $q = [\\mathbb{A}^1_\\mathbb{C}]$ denotes the class of the (complex) affine line."
   ]
  },
  {
   "cell_type": "markdown",
   "metadata": {},
   "source": [
    "We give some more examples. The class of the multiplicatie group scheme $\\mathbb{G}_m$ is given by"
   ]
  },
  {
   "cell_type": "code",
   "execution_count": 6,
   "metadata": {
    "scrolled": true
   },
   "outputs": [
    {
     "data": {
      "text/latex": [
       "$\\displaystyle q - 1$"
      ],
      "text/plain": [
       "q - 1"
      ]
     },
     "execution_count": 6,
     "metadata": {},
     "output_type": "execute_result"
    }
   ],
   "source": [
    "system_Gm = System([], [ x ], { x })\n",
    "solver.compute_class(system_Gm)"
   ]
  },
  {
   "cell_type": "markdown",
   "metadata": {},
   "source": [
    "The class of 4-dimensional affine space $\\mathbb{A}^4_\\mathbb{C}$ is given by"
   ]
  },
  {
   "cell_type": "code",
   "execution_count": 7,
   "metadata": {},
   "outputs": [
    {
     "data": {
      "text/latex": [
       "$\\displaystyle q^{4}$"
      ],
      "text/plain": [
       "q**4"
      ]
     },
     "execution_count": 7,
     "metadata": {},
     "output_type": "execute_result"
    }
   ],
   "source": [
    "system_A4 = System([], [], { x, y, z, w })\n",
    "solver.compute_class(system_A4)"
   ]
  },
  {
   "cell_type": "markdown",
   "metadata": {},
   "source": [
    "The class of the algebraic group $\\text{SL}_2(\\mathbb{C})$ is given by"
   ]
  },
  {
   "cell_type": "code",
   "execution_count": 8,
   "metadata": {},
   "outputs": [
    {
     "data": {
      "text/latex": [
       "$\\displaystyle q^{3} - q$"
      ],
      "text/plain": [
       "q**3 - q"
      ]
     },
     "execution_count": 8,
     "metadata": {},
     "output_type": "execute_result"
    }
   ],
   "source": [
    "system_SL2C = System([ a*d - b*c - 1 ], [], { a, b, c, d })\n",
    "solver.compute_class(system_SL2C)"
   ]
  },
  {
   "cell_type": "markdown",
   "metadata": {},
   "source": [
    "The class of the algebraic group $\\text{GL}_2(\\mathbb{C})$ is given by"
   ]
  },
  {
   "cell_type": "code",
   "execution_count": 9,
   "metadata": {},
   "outputs": [
    {
     "data": {
      "text/latex": [
       "$\\displaystyle q^{4} - q^{3} - q^{2} + q$"
      ],
      "text/plain": [
       "q**4 - q**3 - q**2 + q"
      ]
     },
     "execution_count": 9,
     "metadata": {},
     "output_type": "execute_result"
    }
   ],
   "source": [
    "system_GL2C = System([], [ a*d - b*c ], { a, b, c, d })\n",
    "solver.compute_class(system_GL2C)"
   ]
  },
  {
   "cell_type": "markdown",
   "metadata": {},
   "source": [
    "It is also possible to do computations in relative Grothendieck rings $\\text{K}(\\textbf{Var}/S)$ for some affine variety $S$. For this, use the constructor `System(F, G, V, W)` where `W` denotes the set of affine coordinates of $S$.\n",
    "\n",
    "For example, let $S$ be $\\mathbb{A}^1_\\mathbb{C} - \\{ 0 \\}$ (with coordinate $w$), and let $X \\to S$ be the variety $\\text{GL}_2(\\mathbb{C})$ over $S$ which sends a matrix to its determinant. "
   ]
  },
  {
   "cell_type": "code",
   "execution_count": 10,
   "metadata": {},
   "outputs": [
    {
     "data": {
      "text/latex": [
       "$\\displaystyle - X_{0}^{2} q^{2} - X_{0} q^{3} + X_{0} q^{2} + X_{0} q + q^{3} - q$"
      ],
      "text/plain": [
       "-X_0**2*q**2 - X_0*q**3 + X_0*q**2 + X_0*q + q**3 - q"
      ]
     },
     "execution_count": 10,
     "metadata": {},
     "output_type": "execute_result"
    }
   ],
   "source": [
    "system_X = System([ a*d - b*c - w ], [ w ], { a, b, c, d, w }, { w })\n",
    "solver.compute_class(system_X)"
   ]
  },
  {
   "cell_type": "markdown",
   "metadata": {},
   "source": [
    "Note the $X_0$ that appears. This symbol denotes the class of a variety which the program was not able to simplify further. By looking at the `dictionary` of the solver, we can see what variety corresponds to $X_0$."
   ]
  },
  {
   "cell_type": "code",
   "execution_count": 11,
   "metadata": {},
   "outputs": [
    {
     "data": {
      "text/plain": [
       "[([Poly(c*b + 1, c, b, domain='ZZ')], q - 1),\n",
       " ([Poly(a*d - c*b - 1, a, d, c, b, domain='ZZ')], q**3 - q),\n",
       " ([Poly(c*b, c, b, domain='ZZ')], 2*q - 1),\n",
       " ([Poly(a*d - c*b, a, d, c, b, domain='ZZ')], q**3 + q**2 - q),\n",
       " ([Poly(w, w, domain='ZZ')], X_0),\n",
       " ([Poly(w + c*b, w, c, b, domain='ZZ')], X_0*q + q - 1)]"
      ]
     },
     "execution_count": 11,
     "metadata": {},
     "output_type": "execute_result"
    }
   ],
   "source": [
    "solver.dictionary"
   ]
  },
  {
   "cell_type": "markdown",
   "metadata": {},
   "source": [
    "Hence, $X_0$ corresponds to the subvariety of $S$ for which $w = 0$. By definition of $S$, this is the empty variety, so we know that $X_0 = 0$.\n",
    "\n",
    "To prevent this kind of behaviour, we could give this data to the solver beforehand."
   ]
  },
  {
   "cell_type": "code",
   "execution_count": 12,
   "metadata": {},
   "outputs": [],
   "source": [
    "solver_S = Solver()\n",
    "solver_S.dictionary.append(([sp.Poly(w, w)], 0))"
   ]
  },
  {
   "cell_type": "code",
   "execution_count": 13,
   "metadata": {},
   "outputs": [
    {
     "data": {
      "text/latex": [
       "$\\displaystyle q^{3} - q$"
      ],
      "text/plain": [
       "q**3 - q"
      ]
     },
     "execution_count": 13,
     "metadata": {},
     "output_type": "execute_result"
    }
   ],
   "source": [
    "solver_S.compute_class(system_X)"
   ]
  },
  {
   "cell_type": "code",
   "execution_count": null,
   "metadata": {},
   "outputs": [],
   "source": []
  }
 ],
 "metadata": {
  "kernelspec": {
   "display_name": "Python 3",
   "language": "python",
   "name": "python3"
  },
  "language_info": {
   "codemirror_mode": {
    "name": "ipython",
    "version": 3
   },
   "file_extension": ".py",
   "mimetype": "text/x-python",
   "name": "python",
   "nbconvert_exporter": "python",
   "pygments_lexer": "ipython3",
   "version": "3.8.3"
  }
 },
 "nbformat": 4,
 "nbformat_minor": 4
}
